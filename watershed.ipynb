{
 "cells": [
  {
   "cell_type": "code",
   "execution_count": 1,
   "metadata": {
    "collapsed": true
   },
   "outputs": [],
   "source": [
    "import cv2\n",
    "import matplotlib.pyplot as plt\n",
    "import matplotlib.patches as patches\n",
    "import numpy as np\n",
    "import scipy.misc as misc\n",
    "import glob\n",
    "import os\n",
    "import pdb\n",
    "import copy"
   ]
  },
  {
   "cell_type": "code",
   "execution_count": null,
   "metadata": {},
   "outputs": [
    {
     "name": "stdout",
     "output_type": "stream",
     "text": [
      "> <ipython-input-4-9f925abc4896>(35)watershed2()\n",
      "-> dist_transform = cv2.distanceTransform(gray,1,5)\n",
      "(Pdb) np.max(gray)\n",
      "100\n"
     ]
    }
   ],
   "source": [
    "def watershed(fname):\n",
    "    img = cv2.imread(fname)\n",
    "    gray = cv2.cvtColor(img,cv2.COLOR_BGR2GRAY)\n",
    "    pdb.set_trace()\n",
    "    dist_transform = cv2.distanceTransform(gray,1,5)\n",
    "    ret, sure_fg = cv2.threshold(dist_transform,0.05*dist_transform.max(),255,0)\n",
    "    sure_fg = np.uint8(sure_fg)\n",
    "    ret, markers = cv2.connectedComponents(sure_fg)\n",
    "    plt.imshow(markers)\n",
    "    #plt.show()\n",
    "    \n",
    "    box = []\n",
    "    pdb.set_trace()\n",
    "    cimg,contours,hierarchy = cv2.findContours(sure_fg,cv2.RETR_EXTERNAL,cv2.CHAIN_APPROX_SIMPLE)\n",
    "\n",
    "    for i in range(len(contours)):\n",
    "        cnt = contours[i]\n",
    "        x,y,w,h = cv2.boundingRect(cnt)\n",
    "        x1 = max(1,x-5)\n",
    "        y1 = max(1,y-5)\n",
    "        x2 = min(x+w,img.shape[1])\n",
    "        y2 = min(y+h,img.shape[0])\n",
    "        box.append([x1,y1,x2,y2])\n",
    "    #    print(x1,y1,x2,y2)\n",
    "        new = cv2.rectangle(img,(x1,y1),(x2,y2),(0,255,0),2)\n",
    "    plt.imshow(new)\n",
    "    plt.imsave('new.png',new)\n",
    "    plt.show()\n",
    "    return box\n",
    "\n",
    "def watershed2(fname):\n",
    "    img = cv2.imread(fname)\n",
    "    gray = cv2.cvtColor(img,cv2.COLOR_BGR2GRAY)\n",
    "    pdb.set_trace()\n",
    "    dist_transform = cv2.distanceTransform(gray,1,5)\n",
    "    ret, sure_fg = cv2.threshold(dist_transform,0.05*dist_transform.max(),255,0)\n",
    "    sure_fg = np.uint8(sure_fg)\n",
    "    ret, markers = cv2.connectedComponents(sure_fg)\n",
    "    #plt.imshow(markers)\n",
    "    #plt.show()\n",
    "    \n",
    "    boxes = []\n",
    "    masks = []\n",
    "    \n",
    "    instance_label = 1\n",
    "    \n",
    "    while True:\n",
    "        one_marker = np.where(markers == instance_label , 1,0)\n",
    "        one_marker = np.uint8(one_marker)\n",
    "        one_marker_contour = copy.deepcopy(one_marker)\n",
    "        if np.max(one_marker) == 0:\n",
    "            break\n",
    "        #pdb.set_trace()\n",
    "        cimg,contours,hierarchy = cv2.findContours(one_marker_contour,cv2.RETR_EXTERNAL,cv2.CHAIN_APPROX_SIMPLE)\n",
    "        assert len(contours) == 1\n",
    "        cnt = contours[0]\n",
    "        x,y,w,h = cv2.boundingRect(cnt)\n",
    "        x1 = max(1,x-2)\n",
    "        y1 = max(1,y-2)\n",
    "        x2 = min(x+w+2,img.shape[1])\n",
    "        y2 = min(y+h+2,img.shape[0])\n",
    "        boxes.append([x1,y1,x2,y2])\n",
    "        masks.append(copy.deepcopy(one_marker[y1:y2,x1:x2]))\n",
    "        #plt.imshow(one_marker)\n",
    "        #new = cv2.rectangle(one_marker*100,(x1,y1),(x2,y2),(0,255,0),2)\n",
    "        #plt.imshow(new)\n",
    "        a = np.int32(np.round(cv2.resize(np.float32(masks[-1]),(14,14))))\n",
    "        #a=masks[-1]\n",
    "        plt.imshow(a)\n",
    "        print(np.max(a))\n",
    "        plt.show()\n",
    "        instance_label = instance_label + 1\n",
    "        \n",
    "    return boxes,masks\n",
    "    \n",
    "def clip(image,mask,imageOut,maskOut):\n",
    "    masktmp = misc.imread(mask)\n",
    "    if len(masktmp.shape)==3:\n",
    "        mask2 = np.sum(masktmp,axis=2)\n",
    "    else:\n",
    "        mask2 = masktmp\n",
    "    ax_x = np.sum(mask2,axis=0)\n",
    "    ax_y = np.sum(mask2,axis=1)\n",
    "\n",
    "    print(len(ax_x))\n",
    "    for i in range(len(ax_x)):\n",
    "        if ax_x[i] != 0:\n",
    "            break\n",
    "    y1 = i\n",
    "\n",
    "    for i in range(len(ax_x)):\n",
    "        if ax_x[len(ax_x)-i-1] != 0:\n",
    "            break\n",
    "    y2 = len(ax_x) - i-1\n",
    "\n",
    "    for i in range(len(ax_y)):\n",
    "        if ax_y[i] != 0:\n",
    "            break\n",
    "    x1 = i\n",
    "\n",
    "    for i in range(len(ax_y)):\n",
    "        if ax_y[len(ax_y)-i-1] != 0:\n",
    "            break\n",
    "    x2 = len(ax_y) - i -1\n",
    "\n",
    "    #maskclipped = misc.imread(mask)[x1:x2,y1:y2]\n",
    "    #imageclipped = misc.imread(image)[int(x1*1.0/len(ax_y)*388):int(x2*1.0/len(ax_y)*388),int(y1*1.0/len(ax_x)*388):int(y2*1.0/len(ax_x)*388)]\n",
    "    #misc.imsave('imageOut.png',imageclipped)\n",
    "    #misc.imsave('maskOut.png',maskclipped)   \n",
    "\n",
    "\n",
    "def run(fpath,savename,MULTI_BBOX):\n",
    "    fpath = '/Users/wang/work/processingData/data/mask_test/'\n",
    "    fnames = glob.glob(os.path.join(fpath,'*.png'))\n",
    "    with open(savename,'w') as savefile:\n",
    "        for fname in fnames:\n",
    "            print(fname)\n",
    "            if MULTI_BBOX:\n",
    "                coords = watershed(fname)\n",
    "                for coord in coords:\n",
    "                    savefile.write(\"%s,%d,%d,%d,%d,%s\\n\"%(fname,coord[0],coord[1],coord[2],coord[3],'node'))\n",
    "            else:\n",
    "                boxes = watershed(fname)\n",
    "                boxes = np.array(boxes)\n",
    "                coord = np.zeros(4)\n",
    "                coord[0],coord[1] = min(boxes[:,0]),min(boxes[:,1])\n",
    "                coord[2],coord[3] = max(boxes[:,2]),max(boxes[:,3])\n",
    "                savefile.write(\"%s,%d,%d,%d,%d,%s\\n\"%(fname,coord[0],coord[1],coord[2],coord[3],'node'))\n",
    "\n",
    "\n",
    "\n",
    "#run('/Users/wang/work/processingData/data/mask_test/',savename='singlelabel.txt',MULTI_BBOX=False)\n",
    "watershed2('/Users/wang/work/processingData/data/mask_test/pw0310965_11_38.png')"
   ]
  },
  {
   "cell_type": "code",
   "execution_count": 8,
   "metadata": {},
   "outputs": [
    {
     "name": "stdout",
     "output_type": "stream",
     "text": [
      "(518, 768, 3)\n"
     ]
    },
    {
     "data": {
      "image/png": "[encoded data removed]",
      "text/plain": [
       "<matplotlib.figure.Figure at 0x1132ae7d0>"
      ]
     },
     "metadata": {},
     "output_type": "display_data"
    }
   ],
   "source": [
    "    fname = '/Users/wang/work/processingData/data/mask_test/Rx-g4.png'\n",
    "    img = cv2.imread(fname)\n",
    "    print(img.shape)\n",
    "\n",
    "    gray = cv2.cvtColor(img,cv2.COLOR_BGR2GRAY)\n",
    "    \n",
    "    dist_transform = cv2.distanceTransform(gray,1,5)\n",
    "    plt.imshow(dist_transform)\n",
    "    plt.show()\n"
   ]
  },
  {
   "cell_type": "code",
   "execution_count": 20,
   "metadata": {
    "collapsed": true
   },
   "outputs": [],
   "source": [
    "def run2(savename='multilabel.txt'):\n",
    "    fpath = '/Users/wang/work/processingData/data/img_train/'\n",
    "    mpath = '/Users/wang/work/processingData/data/mask_train/'\n",
    "    sfpath = '/afs/crc.nd.edu/user/h/hwang21/work/keras_my/data/img_train/'\n",
    "    smpath = '/afs/crc.nd.edu/user/h/hwang21/work/keras_my/data/mask_train/'\n",
    "    fnames = glob.glob(os.path.join(fpath,'*.png'))\n",
    "    with open(savename,'w') as savefile:\n",
    "        for fname in fnames:\n",
    "            sfname = os.path.join(sfpath,fname.split('/')[-1])\n",
    "            smname = os.path.join(smpath,fname.split('/')[-1])\n",
    "            savefile.write(\"%s,%s,%s\\n\"%(sfname,smname,'node'))\n",
    "run2()"
   ]
  },
  {
   "cell_type": "code",
   "execution_count": 4,
   "metadata": {},
   "outputs": [
    {
     "data": {
      "text/plain": [
       "array([[[0, 0, 0],\n",
       "        [0, 0, 0],\n",
       "        [0, 0, 0],\n",
       "        ..., \n",
       "        [0, 0, 0],\n",
       "        [0, 0, 0],\n",
       "        [0, 0, 0]],\n",
       "\n",
       "       [[0, 0, 0],\n",
       "        [0, 0, 0],\n",
       "        [0, 0, 0],\n",
       "        ..., \n",
       "        [0, 0, 0],\n",
       "        [0, 0, 0],\n",
       "        [0, 0, 0]],\n",
       "\n",
       "       [[0, 0, 0],\n",
       "        [0, 0, 0],\n",
       "        [0, 0, 0],\n",
       "        ..., \n",
       "        [0, 0, 0],\n",
       "        [0, 0, 0],\n",
       "        [0, 0, 0]],\n",
       "\n",
       "       ..., \n",
       "       [[0, 0, 0],\n",
       "        [0, 0, 0],\n",
       "        [0, 0, 0],\n",
       "        ..., \n",
       "        [0, 0, 0],\n",
       "        [0, 0, 0],\n",
       "        [0, 0, 0]],\n",
       "\n",
       "       [[0, 0, 0],\n",
       "        [0, 0, 0],\n",
       "        [0, 0, 0],\n",
       "        ..., \n",
       "        [0, 0, 0],\n",
       "        [0, 0, 0],\n",
       "        [0, 0, 0]],\n",
       "\n",
       "       [[0, 0, 0],\n",
       "        [0, 0, 0],\n",
       "        [0, 0, 0],\n",
       "        ..., \n",
       "        [0, 0, 0],\n",
       "        [0, 0, 0],\n",
       "        [0, 0, 0]]], dtype=int32)"
      ]
     },
     "execution_count": 4,
     "metadata": {},
     "output_type": "execute_result"
    }
   ],
   "source": [
    "np.int32(cv2.imread('/Users/wang/work/processingData/data/mask_test/pw0310965_11_38.png'))\n"
   ]
  },
  {
   "cell_type": "code",
   "execution_count": 5,
   "metadata": {},
   "outputs": [
    {
     "data": {
      "text/plain": [
       "array([ 0.16512462,  0.46026515,  0.98264646])"
      ]
     },
     "execution_count": 5,
     "metadata": {},
     "output_type": "execute_result"
    }
   ],
   "source": [
    "np.random.rand(3\n",
    "              )"
   ]
  },
  {
   "cell_type": "code",
   "execution_count": 17,
   "metadata": {},
   "outputs": [
    {
     "data": {
      "text/plain": [
       "(4, 4, 3)"
      ]
     },
     "execution_count": 17,
     "metadata": {},
     "output_type": "execute_result"
    }
   ],
   "source": [
    "a = np.ones((4,4,3))\n",
    "b= np.random.rand(3)\n",
    "(a*b).shape\n"
   ]
  },
  {
   "cell_type": "code",
   "execution_count": 37,
   "metadata": {},
   "outputs": [
    {
     "name": "stdout",
     "output_type": "stream",
     "text": [
      "(14, 14)\n",
      "(14, 14, 1)\n",
      "(14, 14, 3)\n"
     ]
    }
   ],
   "source": [
    "i"
   ]
  },
  {
   "cell_type": "code",
   "execution_count": null,
   "metadata": {
    "collapsed": true
   },
   "outputs": [],
   "source": []
  }
 ],
 "metadata": {
  "kernelspec": {
   "display_name": "Python 2",
   "language": "python",
   "name": "python2"
  },
  "language_info": {
   "codemirror_mode": {
    "name": "ipython",
    "version": 2
   },
   "file_extension": ".py",
   "mimetype": "text/x-python",
   "name": "python",
   "nbconvert_exporter": "python",
   "pygments_lexer": "ipython2",
   "version": "2.7.13"
  }
 },
 "nbformat": 4,
 "nbformat_minor": 2
}
